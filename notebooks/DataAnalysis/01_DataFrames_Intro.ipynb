{
 "cells": [
  {
   "cell_type": "markdown",
   "id": "25451953",
   "metadata": {},
   "source": [
    "# DataFrames Basics"
   ]
  },
  {
   "cell_type": "code",
   "execution_count": null,
   "id": "4d931c70",
   "metadata": {},
   "outputs": [],
   "source": [
    "import pandas as pd"
   ]
  },
  {
   "cell_type": "code",
   "execution_count": null,
   "id": "cdd34da4-4cae-46bf-a669-1420135e0df2",
   "metadata": {},
   "outputs": [],
   "source": [
    "from do"
   ]
  },
  {
   "cell_type": "markdown",
   "id": "7089c67e",
   "metadata": {},
   "source": [
    "The `read_csv` method will read in a CSV file and returns to us a DataFrame"
   ]
  },
  {
   "cell_type": "code",
   "execution_count": null,
   "id": "fbee59b2",
   "metadata": {},
   "outputs": [],
   "source": [
    "states = pd.read_csv(\"data/states.csv\")\n",
    "states"
   ]
  },
  {
   "cell_type": "markdown",
   "id": "0f34c258",
   "metadata": {},
   "source": [
    "## King County Home Sales Data Set\n",
    "This dataset includes the home sales from 2014-2015 in King County, WA (the county Seattle is located in)\n",
    "* `id` - house's unique id\n",
    "* `date` - sale date\n",
    "* `price` - sale price\n",
    "* `bedrooms` - number of bedrooms\n",
    "* `bathrooms` - numbers of bathrooms\n",
    "* `sqft_living` - living space square footage \n",
    "* `sqft_lot` - total lot square footage\n",
    "* `floors` - numbers of floors\n",
    "* `waterfront` - is the house waterfront (1) or not (0)\n",
    "* `view` - rating from 0 to 4 of how good the view from the house is\n",
    "* `condition` - rating from 1 (poor) to 5 (very good) of the condition of the house\n",
    "* `grade` - rating from 1-13 representing the construction quality of improvements. 1-3 Falls short of minimum building standards (cabins, etc.) 7 is avg grade, 11-13 have high-quality design & construction\n",
    "* `sqft_above` - square footage of the interior that is above ground level\n",
    "* `sqft_basement` - square footage of the interior that is below ground level\n",
    "* `yr_built` - year the house was initially built\n",
    "* `yr_renovated` - The year of the house’s last renovation (if any)\n",
    "* `zipcode` - zipcode that the house is located in\n",
    "* `lat` - the property's latitude\n",
    "* `long` - the property's longitude\n",
    "* `sqft_living15` - average interior space square footage of the nearest 15 neighbors\n",
    "* `sqft_lot15` - average lot square footage of the nearest 15 neighbors"
   ]
  },
  {
   "cell_type": "code",
   "execution_count": null,
   "id": "c970c51f",
   "metadata": {},
   "outputs": [],
   "source": [
    "houses = pd.read_csv(\"data/kc_house_data.csv\")"
   ]
  },
  {
   "cell_type": "code",
   "execution_count": null,
   "id": "4d496e26",
   "metadata": {},
   "outputs": [],
   "source": [
    "houses.head()"
   ]
  },
  {
   "cell_type": "code",
   "execution_count": null,
   "id": "1e924b4a",
   "metadata": {},
   "outputs": [],
   "source": []
  },
  {
   "cell_type": "code",
   "execution_count": null,
   "id": "80337353",
   "metadata": {},
   "outputs": [],
   "source": []
  },
  {
   "cell_type": "code",
   "execution_count": null,
   "id": "74b83ec2",
   "metadata": {},
   "outputs": [],
   "source": []
  },
  {
   "cell_type": "code",
   "execution_count": null,
   "id": "067da76b",
   "metadata": {},
   "outputs": [],
   "source": []
  },
  {
   "cell_type": "code",
   "execution_count": null,
   "id": "3a2c52d4",
   "metadata": {},
   "outputs": [],
   "source": [
    "houses"
   ]
  },
  {
   "cell_type": "code",
   "execution_count": null,
   "id": "14b7ebe1",
   "metadata": {},
   "outputs": [],
   "source": [
    "type(houses)"
   ]
  },
  {
   "cell_type": "code",
   "execution_count": null,
   "id": "0e2d201e",
   "metadata": {},
   "outputs": [],
   "source": [
    "houses.columns"
   ]
  },
  {
   "cell_type": "code",
   "execution_count": null,
   "id": "64170814",
   "metadata": {},
   "outputs": [],
   "source": [
    "states.columns"
   ]
  },
  {
   "cell_type": "code",
   "execution_count": null,
   "id": "9e7dfdb5",
   "metadata": {},
   "outputs": [],
   "source": [
    "len(houses)"
   ]
  },
  {
   "cell_type": "code",
   "execution_count": null,
   "id": "35f9ec9c",
   "metadata": {},
   "outputs": [],
   "source": [
    "houses.shape"
   ]
  },
  {
   "cell_type": "code",
   "execution_count": null,
   "id": "936a04ea",
   "metadata": {},
   "outputs": [],
   "source": [
    "houses.size"
   ]
  },
  {
   "cell_type": "code",
   "execution_count": null,
   "id": "2cef0710",
   "metadata": {},
   "outputs": [],
   "source": [
    "pd.options.display.min_rows = 15"
   ]
  },
  {
   "cell_type": "code",
   "execution_count": null,
   "id": "f0896234",
   "metadata": {},
   "outputs": [],
   "source": [
    "houses"
   ]
  },
  {
   "cell_type": "markdown",
   "id": "70eb009b",
   "metadata": {},
   "source": [
    "The `head()` method returns the first n rows in a NEW DataFrame"
   ]
  },
  {
   "cell_type": "code",
   "execution_count": null,
   "id": "40a4a52c",
   "metadata": {},
   "outputs": [],
   "source": [
    "first_5 = houses.head()\n",
    "first_5"
   ]
  },
  {
   "cell_type": "code",
   "execution_count": null,
   "id": "8ee6434a",
   "metadata": {},
   "outputs": [],
   "source": [
    "type(first_5)"
   ]
  },
  {
   "cell_type": "code",
   "execution_count": null,
   "id": "3788752d",
   "metadata": {},
   "outputs": [],
   "source": [
    "houses.head(200)"
   ]
  },
  {
   "cell_type": "markdown",
   "id": "30194f8a",
   "metadata": {},
   "source": [
    "The `tail()` method is like `head()` but it works from the END of a DataFrame.  By default it returns the last 5 rows in a new DataFrame."
   ]
  },
  {
   "cell_type": "code",
   "execution_count": null,
   "id": "ed1ebafb",
   "metadata": {},
   "outputs": [],
   "source": [
    "houses.tail()"
   ]
  },
  {
   "cell_type": "code",
   "execution_count": null,
   "id": "7bae705f",
   "metadata": {},
   "outputs": [],
   "source": [
    "houses.tail(9)"
   ]
  },
  {
   "cell_type": "code",
   "execution_count": null,
   "id": "1e8704fe",
   "metadata": {},
   "outputs": [],
   "source": [
    "houses.info()"
   ]
  },
  {
   "cell_type": "code",
   "execution_count": null,
   "id": "9a9ec41c",
   "metadata": {},
   "outputs": [],
   "source": [
    "states.info()"
   ]
  },
  {
   "cell_type": "code",
   "execution_count": null,
   "id": "81f39194",
   "metadata": {},
   "outputs": [],
   "source": [
    "houses.dtypes"
   ]
  },
  {
   "cell_type": "markdown",
   "id": "5269be98",
   "metadata": {},
   "source": [
    "## Introducing The Titanic Dataset"
   ]
  },
  {
   "cell_type": "code",
   "execution_count": null,
   "id": "1b4be389",
   "metadata": {},
   "outputs": [],
   "source": [
    "titanic = pd.read_csv(\"data/titanic.csv\")\n",
    "titanic.head()"
   ]
  },
  {
   "cell_type": "code",
   "execution_count": null,
   "id": "25457bee",
   "metadata": {},
   "outputs": [],
   "source": [
    "titanic.columns"
   ]
  },
  {
   "cell_type": "markdown",
   "id": "1171c90d",
   "metadata": {},
   "source": [
    "* `pclass` - Passenger Class (1 = 1st; 2 = 2nd; 3 = 3rd)\n",
    "* `survived` - Survival (0 = No; 1 = Yes)\n",
    "* `name` - Name\n",
    "* `sex` - Sex\n",
    "* `age` - Age\n",
    "* `sibsp` - Number of Siblings/Spouses Aboard\n",
    "* `parch` - Number of Parents/Children Aboard\n",
    "* `ticket` - Ticket Number\n",
    "* `fare` - Passenger Fare\n",
    "* `cabin` - Cabin\n",
    "* `embarked` - Port of Embarkation (C = Cherbourg; Q = Queenstown; S = Southampton)\n",
    "* `boat` - Lifeboat (if survived)\n",
    "* `body` - Body number (if did not survive and body was recovered)\n",
    "* `home.dest` - Home/Destination"
   ]
  },
  {
   "cell_type": "code",
   "execution_count": null,
   "id": "de8235bb",
   "metadata": {},
   "outputs": [],
   "source": [
    "titanic.tail(10)"
   ]
  },
  {
   "cell_type": "code",
   "execution_count": null,
   "id": "8e595f57",
   "metadata": {},
   "outputs": [],
   "source": [
    "titanic.info()"
   ]
  },
  {
   "cell_type": "code",
   "execution_count": null,
   "id": "1b888ceb",
   "metadata": {
    "scrolled": true
   },
   "outputs": [],
   "source": [
    "titanic.head()"
   ]
  },
  {
   "cell_type": "markdown",
   "id": "d33b85d9",
   "metadata": {},
   "source": [
    "## read_csv with non-comma separators\n",
    "The `netflix_titles.csv` file is actually pipe (`|`) separated.  We can tell `read_csv` to expect this using the `sep=\"|\"` option. \n",
    "\n",
    "Additionally, the netflix dataset includes an index column as the very first column.  We can let `read_csv` know using `index_col=0`"
   ]
  },
  {
   "cell_type": "code",
   "execution_count": null,
   "id": "1bc741e0",
   "metadata": {},
   "outputs": [],
   "source": [
    "netflix = pd.read_csv(\"data/netflix_titles.csv\", sep=\"|\", index_col=0)"
   ]
  },
  {
   "cell_type": "code",
   "execution_count": null,
   "id": "41654810",
   "metadata": {},
   "outputs": [],
   "source": [
    "netflix.info()"
   ]
  },
  {
   "cell_type": "code",
   "execution_count": null,
   "id": "158806e9",
   "metadata": {},
   "outputs": [],
   "source": [
    "netflix.head()"
   ]
  },
  {
   "cell_type": "markdown",
   "id": "f0e1842d",
   "metadata": {},
   "source": [
    "## Proving Column Names\n",
    "\n",
    "We can provide a list of custom column names to `read_csv` using the `names` parameter.  Additionally, we need to specify `header=0` to tell `read_csv` that the file still contains the original headers on the first line and that it should ignore them!"
   ]
  },
  {
   "cell_type": "code",
   "execution_count": null,
   "id": "29d2cc38",
   "metadata": {},
   "outputs": [],
   "source": [
    "names = ['sumlev', 'region', 'division', 'state', 'name', 'census2010pop', 'estimatesbase2010', 'popestimate2010', 'popestimate2011', 'popestimate2012', 'popestimate2013', 'popestimate2014', 'popestimate2015', 'popestimate2016', 'popestimate2017', 'popestimate2018', 'popestimate2019', 'popestimate042020', 'popestimate2020']\n",
    "state_pops = pd.read_csv(\"data/nst-est2020.csv\", names=names, header=0)\n",
    "state_pops"
   ]
  }
 ],
 "metadata": {
  "kernelspec": {
   "display_name": "city-designer",
   "language": "python",
   "name": "city-designer"
  },
  "language_info": {
   "codemirror_mode": {
    "name": "ipython",
    "version": 3
   },
   "file_extension": ".py",
   "mimetype": "text/x-python",
   "name": "python",
   "nbconvert_exporter": "python",
   "pygments_lexer": "ipython3",
   "version": "3.11.4"
  }
 },
 "nbformat": 4,
 "nbformat_minor": 5
}
